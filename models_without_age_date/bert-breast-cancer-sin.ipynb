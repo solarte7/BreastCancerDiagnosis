{
 "cells": [
  {
   "cell_type": "code",
   "execution_count": null,
   "metadata": {
    "execution": {
     "iopub.execute_input": "2023-05-01T20:20:22.302793Z",
     "iopub.status.busy": "2023-05-01T20:20:22.301889Z",
     "iopub.status.idle": "2023-05-01T20:20:52.532724Z",
     "shell.execute_reply": "2023-05-01T20:20:52.531602Z",
     "shell.execute_reply.started": "2023-05-01T20:20:22.302755Z"
    },
    "papermill": {
     "duration": 13.453613,
     "end_time": "2021-09-29T20:53:45.906586",
     "exception": false,
     "start_time": "2021-09-29T20:53:32.452973",
     "status": "completed"
    },
    "tags": []
   },
   "outputs": [],
   "source": [
    "try:\n",
    "    import seqeval\n",
    "    import sklearn\n",
    "    import transformers\n",
    "except ModuleNotFoundError as err:\n",
    "    !pip install seqeval\n",
    "    !pip install -U scikit-learn\n",
    "    !pip install transformers"
   ]
  },
  {
   "cell_type": "code",
   "execution_count": null,
   "metadata": {
    "execution": {
     "iopub.execute_input": "2023-05-01T20:20:52.535116Z",
     "iopub.status.busy": "2023-05-01T20:20:52.534775Z",
     "iopub.status.idle": "2023-05-01T20:20:52.542271Z",
     "shell.execute_reply": "2023-05-01T20:20:52.541560Z",
     "shell.execute_reply.started": "2023-05-01T20:20:52.535083Z"
    },
    "papermill": {
     "duration": 0.040725,
     "end_time": "2021-09-29T20:53:45.978263",
     "exception": false,
     "start_time": "2021-09-29T20:53:45.937538",
     "status": "completed"
    },
    "tags": []
   },
   "outputs": [],
   "source": [
    "import os\n",
    "import shutil\n",
    " \n",
    "dir = './'\n",
    "for f in os.listdir(dir):\n",
    "    if not os.path.isdir(f):\n",
    "        os.remove(os.path.join(dir, f))\n",
    "    else:\n",
    "        shutil.rmtree(f)\n",
    "    \n",
    "print(os.listdir(dir))"
   ]
  },
  {
   "cell_type": "code",
   "execution_count": null,
   "metadata": {
    "execution": {
     "iopub.execute_input": "2023-05-01T20:20:52.543458Z",
     "iopub.status.busy": "2023-05-01T20:20:52.543183Z",
     "iopub.status.idle": "2023-05-01T20:21:57.158435Z",
     "shell.execute_reply": "2023-05-01T20:21:57.157520Z",
     "shell.execute_reply.started": "2023-05-01T20:20:52.543436Z"
    },
    "papermill": {
     "duration": 6.77967,
     "end_time": "2021-09-29T20:53:52.790333",
     "exception": false,
     "start_time": "2021-09-29T20:53:46.010663",
     "status": "completed"
    },
    "tags": []
   },
   "outputs": [],
   "source": [
    "import sys\n",
    "sys.path.append('../input/libsutils')\n",
    "\n",
    "import tensorflow as tf\n",
    "import matplotlib.pyplot as plt\n",
    "import numpy as np\n",
    "import pickle\n",
    "import pandas as pd\n",
    "import requests\n",
    "import tarfile\n",
    "from itertools import islice\n",
    "\n",
    "from tabulate import tabulate\n",
    "from sklearn.metrics import confusion_matrix\n",
    "from sklearn.metrics import classification_report as eskclarep\n",
    "from seqeval.metrics import precision_score, recall_score, f1_score, accuracy_score\n",
    "from seqeval.metrics import classification_report as seqclarep\n",
    "from sklearn.preprocessing import LabelBinarizer\n",
    "from sklearn.model_selection import KFold\n",
    "from itertools import chain\n",
    "\n",
    "from tensorflow import keras\n",
    "from tensorflow.keras.layers import Dense, Input, Dropout, TimeDistributed\n",
    "from tensorflow.keras.optimizers.legacy import Adam\n",
    "from tensorflow.keras.models import Model\n",
    "from tensorflow.keras.callbacks import ModelCheckpoint\n",
    "from tensorflow.keras.preprocessing.sequence import pad_sequences\n",
    "from tensorflow.keras.utils import to_categorical\n",
    "\n",
    "from sklearn import preprocessing\n",
    "#from tokenizers import BertWordPieceTokenizer\n",
    "from utils import build_matrix_embeddings as bme, plot_model_performance, logits_to_tokens, report_to_df\n",
    "from transformers import (\n",
    "    TF2_WEIGHTS_NAME,\n",
    "    BertConfig,\n",
    "    BertTokenizer,\n",
    "    TFBertForTokenClassification,\n",
    "    create_optimizer)\n",
    "\n",
    "from tensorflow.keras.callbacks import ModelCheckpoint\n",
    "from tensorflow.keras.callbacks import TensorBoard\n",
    "import tensorflow.keras.backend as kb\n",
    "\n",
    "from IPython.core.display import HTML\n",
    "#from crfta import CRF as crf4\n",
    "\n",
    "import datetime, os, warnings\n",
    "import random\n",
    "import time\n",
    "from tqdm import tqdm"
   ]
  },
  {
   "cell_type": "code",
   "execution_count": null,
   "metadata": {
    "execution": {
     "iopub.execute_input": "2023-05-01T20:21:57.161449Z",
     "iopub.status.busy": "2023-05-01T20:21:57.160855Z",
     "iopub.status.idle": "2023-05-01T20:21:57.186442Z",
     "shell.execute_reply": "2023-05-01T20:21:57.185718Z",
     "shell.execute_reply.started": "2023-05-01T20:21:57.161416Z"
    }
   },
   "outputs": [],
   "source": [
    "# prevent logs\n",
    "warnings.filterwarnings('ignore')\n",
    "os.environ['TF_CPP_MIN_LOG_LEVEL'] = '3'\n",
    "\n",
    "SEED = 42\n",
    "os.environ['PYTHONHASHSEED']=str(SEED)\n",
    "os.environ['TF_CUDNN_DETERMINISTIC'] = '1'  # TF 2.1+\n",
    "random.seed(SEED)\n",
    "np.random.seed(SEED)\n",
    "tf.random.set_seed(SEED)\n",
    "\n",
    "MODEL         = 'model-bert-breast_sin'\n",
    "logs_base_dir = \"./logs\"\n",
    "log_dir       = logs_base_dir + \"/\" + MODEL\n",
    "save_base_dir = './model-save'\n",
    "save_dir      = save_base_dir + \"/\" + MODEL\n",
    "\n",
    "os.makedirs(logs_base_dir, exist_ok=True)\n",
    "os.makedirs(log_dir,       exist_ok=True)\n",
    "os.makedirs(save_base_dir, exist_ok=True)\n",
    "os.makedirs(save_dir,      exist_ok=True)\n",
    "\n",
    "%load_ext tensorboard\n",
    "\n",
    "# ****** DEFINICION DE PARAMETROS *********\n",
    "LEN_SENTS   = 267\n",
    "MAX_LEN     = 486\n",
    "NUM_TAGS    = 45 + 3\n",
    "\n",
    "# ****** DEFINICION DE HIPERPARAMETROS *********\n",
    "_EPOCHS      = 15\n",
    "_DROPOUT     = 0.4\n",
    "_BACH_SIZE   = 64\n",
    "VAL_SPLIT    = 0.3\n",
    "NUM_FOLDS    = 10\n",
    "\n",
    "prime_data_fold = []\n",
    "total_data_fold = []\n",
    "\n",
    "configuration = BertConfig()\n",
    "\n",
    "BERT_MODEL = \"bert-base-multilingual-cased\"\n",
    "ESPECIAL_TOKEN = 45\n",
    "SEP_TOKEN      = 46\n",
    "PAD_TOKEN      = 47\n",
    "WORD_PAD_TOKEN = 0\n",
    "\n",
    "AUTO = tf.data.experimental.AUTOTUNE"
   ]
  },
  {
   "cell_type": "markdown",
   "metadata": {
    "papermill": {
     "duration": 0.031801,
     "end_time": "2021-09-29T20:53:52.85351",
     "exception": false,
     "start_time": "2021-09-29T20:53:52.821709",
     "status": "completed"
    },
    "tags": []
   },
   "source": [
    "### Se define la Funciones de Carga de Datos"
   ]
  },
  {
   "cell_type": "code",
   "execution_count": null,
   "metadata": {
    "execution": {
     "iopub.execute_input": "2023-05-01T20:21:57.188114Z",
     "iopub.status.busy": "2023-05-01T20:21:57.187438Z",
     "iopub.status.idle": "2023-05-01T20:21:57.194977Z",
     "shell.execute_reply": "2023-05-01T20:21:57.194235Z",
     "shell.execute_reply.started": "2023-05-01T20:21:57.188087Z"
    },
    "papermill": {
     "duration": 0.040874,
     "end_time": "2021-09-29T20:53:52.92553",
     "exception": false,
     "start_time": "2021-09-29T20:53:52.884656",
     "status": "completed"
    },
    "tags": []
   },
   "outputs": [],
   "source": [
    "def process_csv(data_path, enc_tag):\n",
    "    df = pd.read_csv(data_path, encoding=\"utf-8\")\n",
    "    df.loc[:, \"Sentence #\"] = df[\"Sentence #\"].fillna(method=\"ffill\")\n",
    "    if enc_tag == '':\n",
    "        enc_tag = preprocessing.LabelEncoder()\n",
    "    \n",
    "    df.loc[:, \"Tag\"] = enc_tag.fit_transform(df[\"Tag\"])\n",
    "    sentences_l = df.groupby(\"Sentence #\")[\"Word\"].apply(list).values\n",
    "    sentences = sentences_l.tolist()\n",
    "    tag_l = df.groupby(\"Sentence #\")[\"Tag\"].apply(list).values\n",
    "    tag = tag_l.tolist()\n",
    "    return sentences, tag, enc_tag"
   ]
  },
  {
   "cell_type": "markdown",
   "metadata": {
    "papermill": {
     "duration": 0.030892,
     "end_time": "2021-09-29T20:53:52.987722",
     "exception": false,
     "start_time": "2021-09-29T20:53:52.95683",
     "status": "completed"
    },
    "tags": []
   },
   "source": [
    "## Se cargan los datasets"
   ]
  },
  {
   "cell_type": "code",
   "execution_count": null,
   "metadata": {
    "execution": {
     "iopub.execute_input": "2023-05-01T20:21:57.196318Z",
     "iopub.status.busy": "2023-05-01T20:21:57.196033Z",
     "iopub.status.idle": "2023-05-01T20:21:58.265170Z",
     "shell.execute_reply": "2023-05-01T20:21:58.264252Z",
     "shell.execute_reply.started": "2023-05-01T20:21:57.196276Z"
    },
    "papermill": {
     "duration": 1.292728,
     "end_time": "2021-09-29T20:53:54.312013",
     "exception": false,
     "start_time": "2021-09-29T20:53:53.019285",
     "status": "completed"
    },
    "tags": []
   },
   "outputs": [],
   "source": [
    "X_data, y_data, enc_tag_data = process_csv(\"../input/braset-cancer/train_sentences_sin.csv\", \"\")"
   ]
  },
  {
   "cell_type": "markdown",
   "metadata": {
    "papermill": {
     "duration": 0.030579,
     "end_time": "2021-09-29T20:53:54.373707",
     "exception": false,
     "start_time": "2021-09-29T20:53:54.343128",
     "status": "completed"
    },
    "tags": []
   },
   "source": [
    "## Pruebas de carga de datos"
   ]
  },
  {
   "cell_type": "code",
   "execution_count": null,
   "metadata": {
    "execution": {
     "iopub.execute_input": "2023-05-01T20:21:58.266731Z",
     "iopub.status.busy": "2023-05-01T20:21:58.266425Z",
     "iopub.status.idle": "2023-05-01T20:21:58.274159Z",
     "shell.execute_reply": "2023-05-01T20:21:58.273414Z",
     "shell.execute_reply.started": "2023-05-01T20:21:58.266704Z"
    },
    "papermill": {
     "duration": 0.041988,
     "end_time": "2021-09-29T20:53:54.446745",
     "exception": false,
     "start_time": "2021-09-29T20:53:54.404757",
     "status": "completed"
    },
    "tags": []
   },
   "outputs": [],
   "source": [
    "print(X_data[0])\n",
    "print(y_data[0])\n",
    "print(enc_tag_data)\n",
    "\n",
    "#print(X_train[0][0])\n",
    "#print(X_train[0][1])\n",
    "#print(X_train[0][2])"
   ]
  },
  {
   "cell_type": "code",
   "execution_count": null,
   "metadata": {
    "execution": {
     "iopub.execute_input": "2023-05-01T20:21:58.275453Z",
     "iopub.status.busy": "2023-05-01T20:21:58.275165Z",
     "iopub.status.idle": "2023-05-01T20:21:58.326994Z",
     "shell.execute_reply": "2023-05-01T20:21:58.326269Z",
     "shell.execute_reply.started": "2023-05-01T20:21:58.275428Z"
    },
    "papermill": {
     "duration": 0.075471,
     "end_time": "2021-09-29T20:53:54.55358",
     "exception": false,
     "start_time": "2021-09-29T20:53:54.478109",
     "status": "completed"
    },
    "tags": []
   },
   "outputs": [],
   "source": [
    "list1 = y_data\n",
    "tag_list = []\n",
    "for sublist in list1:\n",
    "    for x in sublist:\n",
    "        if x not in tag_list:\n",
    "            tag_list.append(x)\n",
    "            \n",
    "tag_list.append(45)\n",
    "tag_list.append(46)\n",
    "tag_list.append(47)\n",
    "\n",
    "\n",
    "tag_list.sort()"
   ]
  },
  {
   "cell_type": "code",
   "execution_count": null,
   "metadata": {
    "execution": {
     "iopub.execute_input": "2023-05-01T20:21:58.328236Z",
     "iopub.status.busy": "2023-05-01T20:21:58.327977Z",
     "iopub.status.idle": "2023-05-01T20:21:58.334785Z",
     "shell.execute_reply": "2023-05-01T20:21:58.334051Z",
     "shell.execute_reply.started": "2023-05-01T20:21:58.328213Z"
    },
    "papermill": {
     "duration": 0.040803,
     "end_time": "2021-09-29T20:53:54.626459",
     "exception": false,
     "start_time": "2021-09-29T20:53:54.585656",
     "status": "completed"
    },
    "tags": []
   },
   "outputs": [],
   "source": [
    "print(tag_list)\n",
    "le_dicti = {}\n",
    "le_dict  = dict(zip(enc_tag_data.transform(enc_tag_data.classes_), enc_tag_data.classes_))\n",
    "#print([le_dict.get(_, '[pad]') for _ in tag_list])\n",
    "#print(le_dict)\n",
    "le_dict[45] = '[CLS]'\n",
    "le_dict[46] = '[SEP]'\n",
    "le_dict[47] = '[PAD]'\n",
    "\n",
    "for key in le_dict:\n",
    "    #print(key, '->', le_dict[key])\n",
    "    le_dicti[le_dict[key]] = key\n",
    "print(le_dicti)"
   ]
  },
  {
   "cell_type": "code",
   "execution_count": null,
   "metadata": {
    "execution": {
     "iopub.execute_input": "2023-05-01T20:21:58.338319Z",
     "iopub.status.busy": "2023-05-01T20:21:58.338043Z",
     "iopub.status.idle": "2023-05-01T20:21:58.346747Z",
     "shell.execute_reply": "2023-05-01T20:21:58.345993Z",
     "shell.execute_reply.started": "2023-05-01T20:21:58.338296Z"
    },
    "papermill": {
     "duration": 0.039881,
     "end_time": "2021-09-29T20:53:54.698408",
     "exception": false,
     "start_time": "2021-09-29T20:53:54.658527",
     "status": "completed"
    },
    "tags": []
   },
   "outputs": [],
   "source": [
    "#print(np.shape(tag_list))\n",
    "#label_map = {label: i for i, label in enumerate(tag_list)}\n",
    "#num_labels = len(label_map)\n",
    "num_labels = len(tag_list)\n",
    "#print(label_map)\n",
    "print(num_labels)"
   ]
  },
  {
   "cell_type": "markdown",
   "metadata": {
    "papermill": {
     "duration": 0.031364,
     "end_time": "2021-09-29T20:53:54.761996",
     "exception": false,
     "start_time": "2021-09-29T20:53:54.730632",
     "status": "completed"
    },
    "tags": []
   },
   "source": [
    "## Se carga el embedding de bert"
   ]
  },
  {
   "cell_type": "code",
   "execution_count": null,
   "metadata": {
    "execution": {
     "iopub.execute_input": "2023-05-01T20:21:58.347871Z",
     "iopub.status.busy": "2023-05-01T20:21:58.347631Z",
     "iopub.status.idle": "2023-05-01T20:21:59.134989Z",
     "shell.execute_reply": "2023-05-01T20:21:59.133957Z",
     "shell.execute_reply.started": "2023-05-01T20:21:58.347850Z"
    },
    "papermill": {
     "duration": 2.805633,
     "end_time": "2021-09-29T20:53:57.59982",
     "exception": false,
     "start_time": "2021-09-29T20:53:54.794187",
     "status": "completed"
    },
    "tags": []
   },
   "outputs": [],
   "source": [
    "MODEL_CLASSES = {\"bert\": (BertConfig, TFBertForTokenClassification, BertTokenizer)}\n",
    "config_class, model_class, tokenizer_class = MODEL_CLASSES['bert']\n",
    "config = config_class.from_pretrained(BERT_MODEL, num_labels=num_labels)\n",
    "\n",
    "tokenizer = tokenizer_class.from_pretrained(BERT_MODEL, do_lower_case=False)"
   ]
  },
  {
   "cell_type": "markdown",
   "metadata": {
    "papermill": {
     "duration": 0.03472,
     "end_time": "2021-09-29T20:53:57.669424",
     "exception": false,
     "start_time": "2021-09-29T20:53:57.634704",
     "status": "completed"
    },
    "tags": []
   },
   "source": [
    "## Funcion que convierte las entradas en entradas bert"
   ]
  },
  {
   "cell_type": "code",
   "execution_count": null,
   "metadata": {
    "execution": {
     "iopub.execute_input": "2023-05-01T20:21:59.136662Z",
     "iopub.status.busy": "2023-05-01T20:21:59.136365Z",
     "iopub.status.idle": "2023-05-01T20:21:59.151425Z",
     "shell.execute_reply": "2023-05-01T20:21:59.150470Z",
     "shell.execute_reply.started": "2023-05-01T20:21:59.136635Z"
    },
    "papermill": {
     "duration": 0.053416,
     "end_time": "2021-09-29T20:53:57.75809",
     "exception": false,
     "start_time": "2021-09-29T20:53:57.704674",
     "status": "completed"
    },
    "tags": []
   },
   "outputs": [],
   "source": [
    "def convert_to_input(sentences, tags, in_ou_put):\n",
    "    input_id_list       = []\n",
    "    attention_mask_list = [] \n",
    "    token_type_id_list  = []\n",
    "    len_tokens          = []\n",
    "    len_sentences       = []\n",
    "    \n",
    "    \n",
    "    if in_ou_put == 1:\n",
    "        label_id_list   = []\n",
    "    else:\n",
    "        label_id_list   = 0\n",
    "    \n",
    "    for x,y in tqdm(zip(sentences,tags),total=len(tags)):\n",
    "        tokens = []\n",
    "        \n",
    "        if in_ou_put == 1:\n",
    "            label_ids = []\n",
    "        \n",
    "        for word, label in zip(x, y):\n",
    "            word_tokens = tokenizer.tokenize(str(word))\n",
    "            tokens.extend(word_tokens)\n",
    "            # Use the real label id for the first token of the word, \n",
    "            # and padding ids for the remaining tokens\n",
    "            if in_ou_put == 1:\n",
    "                label_ids.extend([label] + [SEP_TOKEN] * (len(word_tokens) - 1))\n",
    "        \n",
    "        \n",
    "        if in_ou_put == 1:\n",
    "            label_ids = [ESPECIAL_TOKEN] + label_ids + [ESPECIAL_TOKEN]\n",
    "        \n",
    "        len_tokens.append(len(label_ids))\n",
    "        len_sentences.append(len(x))\n",
    "        \n",
    "        inputs = tokenizer.encode_plus(tokens, add_special_tokens=True, max_length=MAX_LEN)\n",
    "        \n",
    "        input_ids       = inputs[\"input_ids\"]\n",
    "        token_type_ids  = inputs[\"token_type_ids\"]\n",
    "        attention_masks = inputs[\"attention_mask\"]\n",
    "        \n",
    "        attention_mask_list.append(attention_masks)\n",
    "        input_id_list.append(input_ids)\n",
    "        token_type_id_list.append(token_type_ids)\n",
    "        \n",
    "        if in_ou_put == 1:\n",
    "            label_id_list.append(label_ids)\n",
    "\n",
    "    input_id_list       = pad_sequences(maxlen=MAX_LEN, sequences=input_id_list,       dtype=\"int32\", padding=\"post\", value=WORD_PAD_TOKEN)\n",
    "    token_type_id_list  = pad_sequences(maxlen=MAX_LEN, sequences=token_type_id_list,  dtype=\"int32\", padding=\"post\")\n",
    "    attention_mask_list = pad_sequences(maxlen=MAX_LEN, sequences=attention_mask_list, dtype=\"int32\", padding=\"post\")\n",
    "    \n",
    "    print(\">>> :\", max(len_tokens))\n",
    "    print(\">>>> :\", max(len_sentences))\n",
    "    \n",
    "    if in_ou_put == 1:\n",
    "        label_id_list   = pad_sequences(maxlen=MAX_LEN, sequences=label_id_list, dtype=\"int32\", padding=\"post\", value=PAD_TOKEN)\n",
    "\n",
    "\n",
    "    return input_id_list, token_type_id_list, attention_mask_list, label_id_list"
   ]
  },
  {
   "cell_type": "code",
   "execution_count": null,
   "metadata": {
    "execution": {
     "iopub.execute_input": "2023-05-01T20:21:59.152761Z",
     "iopub.status.busy": "2023-05-01T20:21:59.152505Z",
     "iopub.status.idle": "2023-05-01T20:22:12.210585Z",
     "shell.execute_reply": "2023-05-01T20:22:12.209708Z",
     "shell.execute_reply.started": "2023-05-01T20:21:59.152738Z"
    },
    "papermill": {
     "duration": 18.198813,
     "end_time": "2021-09-29T20:54:15.991318",
     "exception": false,
     "start_time": "2021-09-29T20:53:57.792505",
     "status": "completed"
    },
    "tags": []
   },
   "outputs": [],
   "source": [
    "input_ids, token_ids, attention_masks, label_ids = convert_to_input(X_data, y_data, 1)"
   ]
  },
  {
   "cell_type": "code",
   "execution_count": null,
   "metadata": {
    "execution": {
     "iopub.execute_input": "2023-05-01T20:22:12.212323Z",
     "iopub.status.busy": "2023-05-01T20:22:12.211980Z",
     "iopub.status.idle": "2023-05-01T20:22:12.216413Z",
     "shell.execute_reply": "2023-05-01T20:22:12.215613Z",
     "shell.execute_reply.started": "2023-05-01T20:22:12.212281Z"
    },
    "papermill": {
     "duration": 0.089684,
     "end_time": "2021-09-29T20:54:16.163839",
     "exception": false,
     "start_time": "2021-09-29T20:54:16.074155",
     "status": "completed"
    },
    "tags": []
   },
   "outputs": [],
   "source": [
    "#input_ids_train.shape, token_ids_train.shape, attention_masks_train.shape, label_ids_train.shape"
   ]
  },
  {
   "cell_type": "markdown",
   "metadata": {
    "papermill": {
     "duration": 0.08153,
     "end_time": "2021-09-29T20:54:16.501808",
     "exception": false,
     "start_time": "2021-09-29T20:54:16.420278",
     "status": "completed"
    },
    "tags": []
   },
   "source": [
    "## Definición del Modelo"
   ]
  },
  {
   "cell_type": "code",
   "execution_count": null,
   "metadata": {
    "execution": {
     "iopub.execute_input": "2023-05-01T20:22:12.217618Z",
     "iopub.status.busy": "2023-05-01T20:22:12.217367Z",
     "iopub.status.idle": "2023-05-01T20:22:12.234521Z",
     "shell.execute_reply": "2023-05-01T20:22:12.233667Z",
     "shell.execute_reply.started": "2023-05-01T20:22:12.217597Z"
    },
    "papermill": {
     "duration": 0.094677,
     "end_time": "2021-09-29T20:54:16.678343",
     "exception": false,
     "start_time": "2021-09-29T20:54:16.583666",
     "status": "completed"
    },
    "tags": []
   },
   "outputs": [],
   "source": [
    "#optimizer = keras.optimizers.Adam(learning_rate=5e-5)\n",
    "optimizer = Adam(learning_rate=5e-5)\n",
    "    \n",
    "#loss      = tf.keras.losses.BinaryCrossentropy(from_logits = True)\n",
    "#loss      = tf.keras.losses.CategoricalCrossentropy(from_logits = True)\n",
    "loss      = tf.keras.losses.SparseCategoricalCrossentropy(from_logits=True)"
   ]
  },
  {
   "cell_type": "code",
   "execution_count": null,
   "metadata": {
    "execution": {
     "iopub.execute_input": "2023-05-01T20:22:12.235883Z",
     "iopub.status.busy": "2023-05-01T20:22:12.235595Z",
     "iopub.status.idle": "2023-05-01T20:22:12.247744Z",
     "shell.execute_reply": "2023-05-01T20:22:12.246988Z",
     "shell.execute_reply.started": "2023-05-01T20:22:12.235858Z"
    },
    "papermill": {
     "duration": 0.094509,
     "end_time": "2021-09-29T20:54:16.855219",
     "exception": false,
     "start_time": "2021-09-29T20:54:16.76071",
     "status": "completed"
    },
    "tags": []
   },
   "outputs": [],
   "source": [
    "def create_model():\n",
    "    encoder        = model_class.from_pretrained(BERT_MODEL,\n",
    "                                                 from_pt=bool(\".bin\" in BERT_MODEL),\n",
    "                                                 config=config)\n",
    "    \n",
    "    input_ids      = Input(shape=(MAX_LEN,), dtype=tf.int32)\n",
    "    token_type_ids = Input(shape=(MAX_LEN,), dtype=tf.int32)\n",
    "    attention_mask = Input(shape=(MAX_LEN,), dtype=tf.int32)\n",
    "    \n",
    "    embedding = encoder(\n",
    "        input_ids=input_ids, token_type_ids=token_type_ids, attention_mask=attention_mask\n",
    "    )[0]\n",
    "    \n",
    "    embedding = Dropout(_DROPOUT)(embedding)\n",
    "    tag_logits = Dense(num_labels, activation='softmax')(embedding)\n",
    "    \n",
    "    \n",
    "    model = keras.Model(\n",
    "        inputs     = [input_ids, token_type_ids, attention_mask],\n",
    "        outputs    = [tag_logits],\n",
    "    )\n",
    "    \n",
    "    model.compile(optimizer=optimizer, loss=loss, metrics=['accuracy'])\n",
    "    \n",
    "    return model"
   ]
  },
  {
   "cell_type": "markdown",
   "metadata": {
    "papermill": {
     "duration": 0.081712,
     "end_time": "2021-09-29T20:54:17.019065",
     "exception": false,
     "start_time": "2021-09-29T20:54:16.937353",
     "status": "completed"
    },
    "tags": []
   },
   "source": [
    "## Creación del modelo"
   ]
  },
  {
   "cell_type": "code",
   "execution_count": null,
   "metadata": {
    "execution": {
     "iopub.execute_input": "2023-05-01T20:22:12.249113Z",
     "iopub.status.busy": "2023-05-01T20:22:12.248805Z",
     "iopub.status.idle": "2023-05-01T20:23:02.431624Z",
     "shell.execute_reply": "2023-05-01T20:23:02.430686Z",
     "shell.execute_reply.started": "2023-05-01T20:22:12.249088Z"
    },
    "papermill": {
     "duration": 62.613895,
     "end_time": "2021-09-29T20:55:19.715792",
     "exception": false,
     "start_time": "2021-09-29T20:54:17.101897",
     "status": "completed"
    },
    "tags": []
   },
   "outputs": [],
   "source": [
    "use_tpu  = None\n",
    "use_gpu  = None\n",
    "factor_b = None\n",
    "try:\n",
    "    #tpu = tf.distribute.cluster_resolver.TPUClusterResolver.connect(tpu=\"local\")\n",
    "    tpu = tf.distribute.cluster_resolver.TPUClusterResolver(tpu='local')\n",
    "    use_tpu  = True\n",
    "except:\n",
    "    use_tpu  = False\n",
    "\n",
    "try:\n",
    "    gpus     = tf.config.experimental.list_logical_devices('GPU')\n",
    "    use_gpu  = True\n",
    "except:\n",
    "    use_gpu = False\n",
    "    \n",
    "if use_tpu:\n",
    "    print('tpu')\n",
    "    #factor_b = 4\n",
    "    # Create distribution strategy\n",
    "    tf.config.experimental_connect_to_cluster(tpu)\n",
    "    tf.tpu.experimental.initialize_tpu_system(tpu)\n",
    "    #tf.distribute.experimental.TPUStrategy(tpu)\n",
    "    \n",
    "    #print(\"All devices: \", tf.config.list_logical_devices('TPU'))\n",
    "    \n",
    "    strategy = tf.distribute.TPUStrategy(tpu)\n",
    "    \n",
    "    tf.keras.backend.clear_session()\n",
    "    # Create model    \n",
    "    with strategy.scope():\n",
    "        factor_b = strategy.num_replicas_in_sync\n",
    "        model = create_model()\n",
    "elif use_gpu:\n",
    "    print('gpu')\n",
    "    factor_b = 0.25\n",
    "    # Create distribution strategy\n",
    "    if len(gpus) > 1:\n",
    "        strategy = tf.distribute.MirroredStrategy([gpu.name for gpu in gpus])\n",
    "    else:\n",
    "        strategy = tf.distribute.get_strategy()\n",
    "    \n",
    "    # Create model\n",
    "    with strategy.scope():\n",
    "        model = create_model()\n",
    "else:\n",
    "    model = create_model()\n",
    "    \n",
    "model.summary()"
   ]
  },
  {
   "cell_type": "markdown",
   "metadata": {},
   "source": [
    "### Funcion de Plot"
   ]
  },
  {
   "cell_type": "code",
   "execution_count": null,
   "metadata": {
    "execution": {
     "iopub.execute_input": "2023-05-01T20:23:02.433066Z",
     "iopub.status.busy": "2023-05-01T20:23:02.432785Z",
     "iopub.status.idle": "2023-05-01T20:23:02.440396Z",
     "shell.execute_reply": "2023-05-01T20:23:02.439574Z",
     "shell.execute_reply.started": "2023-05-01T20:23:02.433040Z"
    }
   },
   "outputs": [],
   "source": [
    "# ### Convertir el reporte a tabla\n",
    "def report_to_df2(report, name_model):\n",
    "    report = [x.split(' ') for x in report.split('\\n')]\n",
    "    header = ['Class Name']+[x for x in report[0] if x!=''] + ['model']\n",
    "    values = []\n",
    "    for row in report[1:-5]:\n",
    "        row = [value for value in row if value!=''] + [name_model]\n",
    "        if row!=[]:\n",
    "            values.append(row)\n",
    "    df = pd.DataFrame(data = values, columns = header)\n",
    "    return df"
   ]
  },
  {
   "cell_type": "markdown",
   "metadata": {
    "papermill": {
     "duration": 0.083464,
     "end_time": "2021-09-29T20:55:19.882723",
     "exception": false,
     "start_time": "2021-09-29T20:55:19.799259",
     "status": "completed"
    },
    "tags": []
   },
   "source": [
    "## Entranamiento del modelo"
   ]
  },
  {
   "cell_type": "code",
   "execution_count": null,
   "metadata": {
    "execution": {
     "iopub.execute_input": "2023-05-01T20:23:02.441748Z",
     "iopub.status.busy": "2023-05-01T20:23:02.441473Z",
     "iopub.status.idle": "2023-05-01T20:57:50.090497Z",
     "shell.execute_reply": "2023-05-01T20:57:50.089334Z",
     "shell.execute_reply.started": "2023-05-01T20:23:02.441724Z"
    },
    "papermill": {
     "duration": 262.025022,
     "end_time": "2021-09-29T20:59:41.991537",
     "exception": false,
     "start_time": "2021-09-29T20:55:19.966515",
     "status": "completed"
    },
    "tags": []
   },
   "outputs": [],
   "source": [
    "kfold = KFold(n_splits=NUM_FOLDS, shuffle=True)\n",
    "\n",
    "fold_no = 1\n",
    "for train_index, test_index in kfold.split(input_ids):\n",
    "    print('*'* 100)\n",
    "    print('*', ' '*40, '--fold--', fold_no, ' '*44, '*')\n",
    "    print('*'* 100)\n",
    "    \n",
    "    history = model.fit([input_ids[train_index], \n",
    "                         token_ids[train_index], \n",
    "                         attention_masks[train_index]],\n",
    "                        label_ids[train_index],\n",
    "                        validation_split = VAL_SPLIT,\n",
    "                        batch_size       = int(_BACH_SIZE * factor_b),\n",
    "                        epochs           = _EPOCHS,\n",
    "                        verbose          = 1)\n",
    "    \n",
    "    scores = model.evaluate([input_ids[test_index], token_ids[test_index], attention_masks[test_index]], label_ids[test_index])\n",
    "    \n",
    "    print(\"\\neval: \",\n",
    "          f\"{model.metrics_names[0]}: {scores[1] * 100}\",\n",
    "          f\"{model.metrics_names[1]}: {scores[1] * 100}\",\"\\n\")\n",
    "    \n",
    "    if fold_no == 1:\n",
    "        print('>>>>>>', fold_no)\n",
    "        plot_model_performance(\n",
    "            train_loss     = history.history.get('loss', []),\n",
    "            train_acc      = history.history.get('accuracy', []),\n",
    "            train_val_loss = history.history.get('val_loss', []),\n",
    "            train_val_acc  = history.history.get('val_accuracy', [])\n",
    "        )\n",
    "    \n",
    "    prediction = model.predict([input_ids[test_index], token_ids[test_index], attention_masks[test_index]])\n",
    "    \n",
    "    pred_tags = np.argmax(prediction,-1)\n",
    "    #print(pred_tags[0])\n",
    "    \n",
    "    y_pred = logits_to_tokens(pred_tags, le_dict)\n",
    "    #print(y_pred[0])\n",
    "    \n",
    "    y_true = logits_to_tokens(label_ids[test_index], le_dict)\n",
    "    #print(y_true[0])\n",
    "    \n",
    "    li1 = sum(y_true, [])\n",
    "    li2 = sum(y_pred, [])\n",
    "    \n",
    "    results = pd.DataFrame(columns=['Expected', 'Predicted'])\n",
    "    results['Expected']  = li1\n",
    "    results['Predicted'] = li2\n",
    "    \n",
    "    print(\"precision: {:.1%}\".format(precision_score(y_true, y_pred)))\n",
    "    print(\"   recall: {:.1%}\".format(recall_score(y_true,    y_pred)))\n",
    "    print(\" accuracy: {:.1%}\".format(accuracy_score(y_true,  y_pred)))\n",
    "    print(\" F1-score: {:.1%}\".format(f1_score(y_true,        y_pred)), \"\\n\")\n",
    "    \n",
    "    info = []\n",
    "\n",
    "    info.append(\"precision: {:.1%}\".format(precision_score(y_true, y_pred)))\n",
    "    info.append(\"   recall: {:.1%}\".format(recall_score(y_true,    y_pred)))\n",
    "    info.append(\" accuracy: {:.1%}\".format(accuracy_score(y_true,  y_pred)))\n",
    "    info.append(\" F1-score: {:.1%}\".format(f1_score(y_true,        y_pred)))\n",
    "\n",
    "    prime_data_fold.append(info)\n",
    "    \n",
    "    report = eskclarep(results['Expected'], results['Predicted'])\n",
    "    \n",
    "    total_data_fold.append(report_to_df2(report, '-fol' + str(fold_no)))\n",
    "    \n",
    "    print(report_to_df2(report, '-fol' + str(fold_no)), \"\\n\")\n",
    "    \n",
    "    # Increase fold number\n",
    "    fold_no += 1"
   ]
  },
  {
   "cell_type": "markdown",
   "metadata": {},
   "source": [
    "### se almacena las estadisticas"
   ]
  },
  {
   "cell_type": "code",
   "execution_count": null,
   "metadata": {
    "execution": {
     "iopub.execute_input": "2023-05-01T20:57:50.092299Z",
     "iopub.status.busy": "2023-05-01T20:57:50.091953Z",
     "iopub.status.idle": "2023-05-01T20:57:50.099418Z",
     "shell.execute_reply": "2023-05-01T20:57:50.098527Z",
     "shell.execute_reply.started": "2023-05-01T20:57:50.092253Z"
    }
   },
   "outputs": [],
   "source": [
    "output1 = open('./prime_data_fold-10k-model-08_sin.pkl', 'wb')\n",
    "pickle.dump(prime_data_fold, output1)\n",
    "output1.close()\n",
    "\n",
    "output2 = open('./total_data_fold-10k-model-08_sin.pkl', 'wb')\n",
    "pickle.dump(total_data_fold, output2)\n",
    "output2.close()"
   ]
  },
  {
   "cell_type": "markdown",
   "metadata": {
    "papermill": {
     "duration": 0.201948,
     "end_time": "2021-09-29T21:00:54.294652",
     "exception": false,
     "start_time": "2021-09-29T21:00:54.092704",
     "status": "completed"
    },
    "tags": []
   },
   "source": [
    "## se almacena el modelo"
   ]
  },
  {
   "cell_type": "code",
   "execution_count": null,
   "metadata": {
    "execution": {
     "iopub.execute_input": "2023-05-01T20:57:50.100907Z",
     "iopub.status.busy": "2023-05-01T20:57:50.100605Z",
     "iopub.status.idle": "2023-05-01T20:59:00.662176Z",
     "shell.execute_reply": "2023-05-01T20:59:00.660805Z",
     "shell.execute_reply.started": "2023-05-01T20:57:50.100880Z"
    },
    "papermill": {
     "duration": 71.890698,
     "end_time": "2021-09-29T21:02:06.388332",
     "exception": false,
     "start_time": "2021-09-29T21:00:54.497634",
     "status": "completed"
    },
    "tags": []
   },
   "outputs": [],
   "source": [
    "save_locally = tf.saved_model.SaveOptions(experimental_io_device='/job:localhost')\n",
    "\n",
    "#tf.saved_model.save(model, export_dir=save_dir)\n",
    "#tf.saved_model.save(model, export_dir=save_locally)\n",
    "\n",
    "model.save('./model', options=save_locally)"
   ]
  },
  {
   "cell_type": "code",
   "execution_count": null,
   "metadata": {
    "execution": {
     "iopub.execute_input": "2023-05-01T20:59:00.667117Z",
     "iopub.status.busy": "2023-05-01T20:59:00.666806Z",
     "iopub.status.idle": "2023-05-01T20:59:00.761012Z",
     "shell.execute_reply": "2023-05-01T20:59:00.760071Z",
     "shell.execute_reply.started": "2023-05-01T20:59:00.667090Z"
    }
   },
   "outputs": [],
   "source": [
    "X_data_val, y_data_val, enc_tag_data_val = process_csv(\"../input/braset-cancer/sentences_validation_sin.csv\", enc_tag_data)"
   ]
  },
  {
   "cell_type": "code",
   "execution_count": null,
   "metadata": {
    "execution": {
     "iopub.execute_input": "2023-05-01T20:59:00.762725Z",
     "iopub.status.busy": "2023-05-01T20:59:00.762148Z",
     "iopub.status.idle": "2023-05-01T20:59:01.483218Z",
     "shell.execute_reply": "2023-05-01T20:59:01.482150Z",
     "shell.execute_reply.started": "2023-05-01T20:59:00.762696Z"
    }
   },
   "outputs": [],
   "source": [
    "input_ids_val, token_ids_val, attention_masks_val, label_ids_val = convert_to_input(X_data_val, y_data_val, 1)"
   ]
  },
  {
   "cell_type": "code",
   "execution_count": null,
   "metadata": {
    "execution": {
     "iopub.execute_input": "2023-05-01T20:59:01.484790Z",
     "iopub.status.busy": "2023-05-01T20:59:01.484466Z",
     "iopub.status.idle": "2023-05-01T20:59:10.444887Z",
     "shell.execute_reply": "2023-05-01T20:59:10.443644Z",
     "shell.execute_reply.started": "2023-05-01T20:59:01.484761Z"
    }
   },
   "outputs": [],
   "source": [
    "prediction_val = model.predict([input_ids_val, token_ids_val, attention_masks_val])\n",
    "    \n",
    "pred_tags_val = np.argmax(prediction_val, -1)\n",
    "#print(pred_tags[0])\n",
    "    \n",
    "y_pred_val = logits_to_tokens(pred_tags_val, le_dict)\n",
    "#print(y_pred[0])\n",
    "    \n",
    "y_true_val = logits_to_tokens(label_ids_val, le_dict)\n",
    "#print(y_true[0])\n",
    "    \n",
    "li1_val = sum(y_true_val, [])\n",
    "li2_val = sum(y_pred_val, [])"
   ]
  },
  {
   "cell_type": "code",
   "execution_count": null,
   "metadata": {
    "execution": {
     "iopub.execute_input": "2023-05-01T20:59:10.447052Z",
     "iopub.status.busy": "2023-05-01T20:59:10.446707Z",
     "iopub.status.idle": "2023-05-01T20:59:10.508613Z",
     "shell.execute_reply": "2023-05-01T20:59:10.507457Z",
     "shell.execute_reply.started": "2023-05-01T20:59:10.447022Z"
    }
   },
   "outputs": [],
   "source": [
    "results_val = pd.DataFrame(columns=['Expected', 'Predicted'])\n",
    "results_val['Expected']  = li1_val\n",
    "results_val['Predicted'] = li2_val"
   ]
  },
  {
   "cell_type": "code",
   "execution_count": null,
   "metadata": {
    "execution": {
     "iopub.execute_input": "2023-05-01T20:59:10.510051Z",
     "iopub.status.busy": "2023-05-01T20:59:10.509769Z",
     "iopub.status.idle": "2023-05-01T20:59:17.468635Z",
     "shell.execute_reply": "2023-05-01T20:59:17.467272Z",
     "shell.execute_reply.started": "2023-05-01T20:59:10.510026Z"
    }
   },
   "outputs": [],
   "source": [
    "results_val.to_csv('file_bert_val.csv')"
   ]
  },
  {
   "cell_type": "code",
   "execution_count": null,
   "metadata": {
    "execution": {
     "iopub.execute_input": "2023-05-01T20:59:17.470253Z",
     "iopub.status.busy": "2023-05-01T20:59:17.469918Z",
     "iopub.status.idle": "2023-05-01T21:07:02.511201Z",
     "shell.execute_reply": "2023-05-01T21:07:02.509655Z",
     "shell.execute_reply.started": "2023-05-01T20:59:17.470196Z"
    }
   },
   "outputs": [],
   "source": [
    "prediction_total = model.predict([input_ids, \n",
    "                                  token_ids, \n",
    "                                  attention_masks])\n",
    "    \n",
    "pred_tags_total = np.argmax(prediction_total, -1)\n",
    "#print(pred_tags[0])\n",
    "    \n",
    "y_pred_total = logits_to_tokens(pred_tags_total, le_dict)\n",
    "#print(y_pred[0])\n",
    "    \n",
    "y_true_total = logits_to_tokens(label_ids, le_dict)\n",
    "#print(y_true[0])\n",
    "    \n",
    "li1_total = sum(y_true_total, [])\n",
    "li2_total = sum(y_pred_total, [])"
   ]
  },
  {
   "cell_type": "code",
   "execution_count": null,
   "metadata": {
    "execution": {
     "iopub.execute_input": "2023-05-01T21:07:02.517998Z",
     "iopub.status.busy": "2023-05-01T21:07:02.517640Z",
     "iopub.status.idle": "2023-05-01T21:07:03.613822Z",
     "shell.execute_reply": "2023-05-01T21:07:03.612501Z",
     "shell.execute_reply.started": "2023-05-01T21:07:02.517969Z"
    }
   },
   "outputs": [],
   "source": [
    "results_total = pd.DataFrame(columns=['Expected', 'Predicted'])\n",
    "results_total['Expected']  = li1_total\n",
    "results_total['Predicted'] = li2_total"
   ]
  },
  {
   "cell_type": "code",
   "execution_count": null,
   "metadata": {
    "execution": {
     "iopub.execute_input": "2023-05-01T21:07:03.615406Z",
     "iopub.status.busy": "2023-05-01T21:07:03.615083Z",
     "iopub.status.idle": "2023-05-01T21:07:17.957534Z",
     "shell.execute_reply": "2023-05-01T21:07:17.956164Z",
     "shell.execute_reply.started": "2023-05-01T21:07:03.615371Z"
    }
   },
   "outputs": [],
   "source": [
    "results_total.to_csv('file_bert2_val_sin.csv')"
   ]
  }
 ],
 "metadata": {
  "kernelspec": {
   "display_name": "Python 3 (ipykernel)",
   "language": "python",
   "name": "python3"
  },
  "language_info": {
   "codemirror_mode": {
    "name": "ipython",
    "version": 3
   },
   "file_extension": ".py",
   "mimetype": "text/x-python",
   "name": "python",
   "nbconvert_exporter": "python",
   "pygments_lexer": "ipython3",
   "version": "3.10.6"
  }
 },
 "nbformat": 4,
 "nbformat_minor": 4
}
